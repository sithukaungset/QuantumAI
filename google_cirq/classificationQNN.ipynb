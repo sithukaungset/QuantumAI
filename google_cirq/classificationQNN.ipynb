{
 "cells": [
  {
   "cell_type": "code",
   "execution_count": 1,
   "metadata": {},
   "outputs": [],
   "source": [
    "import cirq\n",
    "import numpy as np\n",
    "from scipy.optimize import minimize"
   ]
  },
  {
   "cell_type": "code",
   "execution_count": 2,
   "metadata": {},
   "outputs": [],
   "source": [
    "# Define the quantum circuit (our QNN)\n",
    "def qnn(params, data_point):\n",
    "    # Initialize circuit and qubit\n",
    "    qubit = cirq.GridQubit(0, 0)\n",
    "    circuit = cirq.Circuit()\n",
    "    \n",
    "    # Data encoding gates\n",
    "    circuit.append(cirq.ry(data_point[0])(qubit))\n",
    "    circuit.append(cirq.rx(data_point[1])(qubit))\n",
    "    \n",
    "    # QNN gates\n",
    "    circuit.append(cirq.rz(params[0])(qubit))\n",
    "    circuit.append(cirq.ry(params[1])(qubit))\n",
    "    circuit.append(cirq.rx(params[2])(qubit))\n",
    "    circuit.append(cirq.ry(params[3])(qubit))\n",
    "\n",
    "    # Measurement\n",
    "    circuit.append(cirq.measure(qubit, key=\"m\"))\n",
    "\n",
    "    # Simulate the circuit\n",
    "    simulator = cirq.Simulator()\n",
    "    result = simulator.run(circuit, repetitions=100)\n",
    "    measurements = result.measurements['m']\n",
    "    \n",
    "    # Taking the expectation value of the Z measurements\n",
    "    expectation_value = np.mean([1 if x[0] else -1 for x in measurements])\n",
    "    \n",
    "    return expectation_value"
   ]
  },
  {
   "cell_type": "code",
   "execution_count": 3,
   "metadata": {},
   "outputs": [],
   "source": [
    "# Classification based on QNN's output\n",
    "def classify(data_point, weights):\n",
    "    raw_output = qnn(weights, data_point)\n",
    "    return 1 if raw_output > 0 else 0\n",
    "\n",
    "# Define the cost function\n",
    "def cost(weights):\n",
    "    predictions = [classify(point, weights) for point in data]\n",
    "    loss = sum([(pred - true_label)**2 for pred, true_label in zip(predictions, labels)])\n",
    "    return loss / len(data)"
   ]
  },
  {
   "cell_type": "code",
   "execution_count": 4,
   "metadata": {},
   "outputs": [
    {
     "name": "stdout",
     "output_type": "stream",
     "text": [
      "Optimized weights: [1.78613485 0.19844038 0.09272786 0.66226183]\n"
     ]
    }
   ],
   "source": [
    "# Sample quantum-compatible data\n",
    "data = [[0.5, 0.3], [0.2, 0.4], [0.1, 0.9], [0.7, 0.4]]\n",
    "labels = [0, 1, 1, 0]\n",
    "\n",
    "# Randomly initialize weights\n",
    "initial_weights = np.random.rand(4)\n",
    "\n",
    "# Training using scipy's minimize function\n",
    "result = minimize(cost, initial_weights, method=\"COBYLA\")\n",
    "print(\"Optimized weights:\", result.x)"
   ]
  }
 ],
 "metadata": {
  "kernelspec": {
   "display_name": "Python 3",
   "language": "python",
   "name": "python3"
  },
  "language_info": {
   "codemirror_mode": {
    "name": "ipython",
    "version": 3
   },
   "file_extension": ".py",
   "mimetype": "text/x-python",
   "name": "python",
   "nbconvert_exporter": "python",
   "pygments_lexer": "ipython3",
   "version": "3.10.4"
  },
  "orig_nbformat": 4
 },
 "nbformat": 4,
 "nbformat_minor": 2
}
