{
 "cells": [
  {
   "cell_type": "code",
   "execution_count": 3,
   "metadata": {},
   "outputs": [],
   "source": [
    "# In this notebook, we consider a problem from the paper \"Quantum advantage with shallow circuits\" and build a quantum circuit, which solves it in Cirq.\n",
    "try:\n",
    "    import cirq\n",
    "except ImportError:\n",
    "    print(\"installing cirq..\")\n",
    "    "
   ]
  },
  {
   "cell_type": "code",
   "execution_count": 4,
   "metadata": {},
   "outputs": [],
   "source": [
    "# Introduction\n",
    "# It is well known that some problems can be solved on the qunatum compiter exponentionally faster\n",
    "# than on classical one in terms of computation time. However, there is more subtle way in which quantum computers are more\n",
    "# powerful. There is a problem, which can be solved by quantum circuit of constant depth, but can't be solved by classical circuit of constant depth.\n",
    "# In this notebook we will consider this problem."
   ]
  },
  {
   "cell_type": "code",
   "execution_count": null,
   "metadata": {},
   "outputs": [],
   "source": [
    "# Structure of this notebook"
   ]
  },
  {
   "cell_type": "code",
   "execution_count": 5,
   "metadata": {},
   "outputs": [],
   "source": [
    "import numpy as np\n",
    "import cirq"
   ]
  },
  {
   "cell_type": "code",
   "execution_count": 8,
   "metadata": {},
   "outputs": [],
   "source": [
    "class HiddenLinearFunctionProblem:\n",
    "    \"\"\"Instance of Hidden Linear Function problem.\n",
    "    \n",
    "    The problem is defined by matrix A and vector b, which are\n",
    "    the coefficients of quadratic form, in which linear function\n",
    "    is \"hidden\".\n",
    "    \"\"\"\n",
    "    def __init__(self, A, b):\n",
    "        self.n = A.shape[0]\n",
    "        assert A.shape == (self.n, self.n)\n",
    "        assert b.shape == (self.n, )\n",
    "        for i in range(self.n):\n",
    "            for j in range(i+1):\n",
    "                assert A[i][j] == 0, 'A[i][j] can be 1 only if i>i) % 2 for i in range(self.n)]) for m in range(2**self.n)]'\n",
    "\n",
    "        def vector_in_L(x):\n",
    "            for y in all_vectors:\n",
    "                if self.q( (x + y)%2 ) != (self.q(x) + self.q(y))%4:\n",
    "                    return False\n",
    "            return True\n",
    "\n",
    "        # L is subspace to which we restrict domain of quadratic form.\n",
    "        # Corresponds to `L_q` in the problem definition.\n",
    "        self.L = [x for x in all_vectors if vector_in_L(x)]\n",
    "        \n",
    "        # All vectors `z` which are solutions to the problem.\n",
    "        self.all_zs = [z for z in all_vectors if self.is_z(z)]\n",
    "    \n",
    "    def is_z(self, z):\n",
    "        \"\"\"Checks by definition, whether given vector `z` is solution to this problem.\"\"\"\n",
    "        assert z.shape == (self.n, )\n",
    "        assert self.L is not None\n",
    "        for x in self.L:\n",
    "            if self.q(x) != 2 * ((z @ x) % 2):\n",
    "                return False\n",
    "        return True\n"
   ]
  },
  {
   "cell_type": "code",
   "execution_count": 9,
   "metadata": {},
   "outputs": [],
   "source": [
    "# for testing, to generate an instance of a problem. Therefore generate random A and b.\\\n",
    "\n",
    "def random_problem(n, seed=None):\n",
    "    \"Generate instances of the problem with given n\"\n",
    "\n",
    "    \"Args:\"\n",
    "    \"n: dimension of the problem.\"\n",
    "    if seed is not None:\n",
    "        np.random.seed(seed)\n",
    "    A = np.random.randint(0, 2, size=(n,n))\n",
    "    for i in range(n):\n",
    "        for j in range(i+1):\n",
    "            A[i][j] = 0\n",
    "        b = np.random.randint(0, 2, size=n)\n",
    "        problem = HiddenLinearFunctionProblem(A, b)\n",
    "        return problem\n",
    "    \n",
    "def find_interesting_problem(n, min_L_size):\n",
    "    \"\"\" Generates interesting instance of the problem\"\"\"\n",
    "\n",
    "    for _ in range(1000):\n",
    "        problem = random_problem(n)\n",
    "        problem.bruteforce_solve()\n",
    "        if len(problem.L) >= min_L_size and not np.max(problem.A) == 0:\n",
    "            return problem\n",
    "        return None\n",
    "    \n",
    "    problem = find_interesting_problem(10, 4)\n",
    "    print(\"Size of the subspace L: %d\" % len(problem.L))\n",
    "    print(\"Number of soulutions: %d\" % len(problem.all_zs))\n",
    "\n"
   ]
  },
  {
   "cell_type": "code",
   "execution_count": 12,
   "metadata": {},
   "outputs": [
    {
     "ename": "NameError",
     "evalue": "name 'all_vectors' is not defined",
     "output_type": "error",
     "traceback": [
      "\u001b[0;31m---------------------------------------------------------------------------\u001b[0m",
      "\u001b[0;31mNameError\u001b[0m                                 Traceback (most recent call last)",
      "Cell \u001b[0;32mIn[12], line 12\u001b[0m\n\u001b[1;32m      1\u001b[0m A \u001b[39m=\u001b[39m np\u001b[39m.\u001b[39marray([[\u001b[39m0\u001b[39m, \u001b[39m1\u001b[39m, \u001b[39m1\u001b[39m, \u001b[39m0\u001b[39m, \u001b[39m0\u001b[39m, \u001b[39m1\u001b[39m, \u001b[39m0\u001b[39m, \u001b[39m0\u001b[39m, \u001b[39m1\u001b[39m, \u001b[39m1\u001b[39m],\n\u001b[1;32m      2\u001b[0m               [\u001b[39m0\u001b[39m, \u001b[39m0\u001b[39m, \u001b[39m0\u001b[39m, \u001b[39m1\u001b[39m, \u001b[39m1\u001b[39m, \u001b[39m1\u001b[39m, \u001b[39m1\u001b[39m, \u001b[39m1\u001b[39m, \u001b[39m1\u001b[39m, \u001b[39m1\u001b[39m],\n\u001b[1;32m      3\u001b[0m               [\u001b[39m0\u001b[39m, \u001b[39m0\u001b[39m, \u001b[39m0\u001b[39m, \u001b[39m0\u001b[39m, \u001b[39m0\u001b[39m, \u001b[39m0\u001b[39m, \u001b[39m1\u001b[39m, \u001b[39m1\u001b[39m, \u001b[39m0\u001b[39m, \u001b[39m1\u001b[39m],\n\u001b[0;32m   (...)\u001b[0m\n\u001b[1;32m      9\u001b[0m               [\u001b[39m0\u001b[39m, \u001b[39m0\u001b[39m, \u001b[39m0\u001b[39m, \u001b[39m0\u001b[39m, \u001b[39m0\u001b[39m, \u001b[39m0\u001b[39m, \u001b[39m0\u001b[39m, \u001b[39m0\u001b[39m, \u001b[39m0\u001b[39m, \u001b[39m0\u001b[39m],\n\u001b[1;32m     10\u001b[0m               [\u001b[39m0\u001b[39m, \u001b[39m0\u001b[39m, \u001b[39m0\u001b[39m, \u001b[39m0\u001b[39m, \u001b[39m0\u001b[39m, \u001b[39m0\u001b[39m, \u001b[39m0\u001b[39m, \u001b[39m0\u001b[39m, \u001b[39m0\u001b[39m, \u001b[39m0\u001b[39m]])\n\u001b[1;32m     11\u001b[0m b \u001b[39m=\u001b[39m np\u001b[39m.\u001b[39marray([\u001b[39m0\u001b[39m, \u001b[39m0\u001b[39m, \u001b[39m0\u001b[39m, \u001b[39m0\u001b[39m, \u001b[39m1\u001b[39m, \u001b[39m1\u001b[39m, \u001b[39m1\u001b[39m, \u001b[39m0\u001b[39m, \u001b[39m0\u001b[39m, \u001b[39m1\u001b[39m])\n\u001b[0;32m---> 12\u001b[0m problem_10_64 \u001b[39m=\u001b[39m HiddenLinearFunctionProblem(A, b)\n\u001b[1;32m     13\u001b[0m problem_10_64\u001b[39m.\u001b[39mbruteforce_solve()\n\u001b[1;32m     14\u001b[0m \u001b[39mprint\u001b[39m(\u001b[39m\"\u001b[39m\u001b[39mSize of subspace L: \u001b[39m\u001b[39m%d\u001b[39;00m\u001b[39m\"\u001b[39m \u001b[39m%\u001b[39m \u001b[39mlen\u001b[39m(problem_10_64\u001b[39m.\u001b[39mL))\n",
      "Cell \u001b[0;32mIn[8], line 24\u001b[0m, in \u001b[0;36mHiddenLinearFunctionProblem.__init__\u001b[0;34m(self, A, b)\u001b[0m\n\u001b[1;32m     20\u001b[0m     \u001b[39mreturn\u001b[39;00m \u001b[39mTrue\u001b[39;00m\n\u001b[1;32m     22\u001b[0m \u001b[39m# L is subspace to which we restrict domain of quadratic form.\u001b[39;00m\n\u001b[1;32m     23\u001b[0m \u001b[39m# Corresponds to `L_q` in the problem definition.\u001b[39;00m\n\u001b[0;32m---> 24\u001b[0m \u001b[39mself\u001b[39m\u001b[39m.\u001b[39mL \u001b[39m=\u001b[39m [x \u001b[39mfor\u001b[39;00m x \u001b[39min\u001b[39;00m all_vectors \u001b[39mif\u001b[39;00m vector_in_L(x)]\n\u001b[1;32m     26\u001b[0m \u001b[39m# All vectors `z` which are solutions to the problem.\u001b[39;00m\n\u001b[1;32m     27\u001b[0m \u001b[39mself\u001b[39m\u001b[39m.\u001b[39mall_zs \u001b[39m=\u001b[39m [z \u001b[39mfor\u001b[39;00m z \u001b[39min\u001b[39;00m all_vectors \u001b[39mif\u001b[39;00m \u001b[39mself\u001b[39m\u001b[39m.\u001b[39mis_z(z)]\n",
      "\u001b[0;31mNameError\u001b[0m: name 'all_vectors' is not defined"
     ]
    }
   ],
   "source": [
    "A = np.array([[0, 1, 1, 0, 0, 1, 0, 0, 1, 1],\n",
    "              [0, 0, 0, 1, 1, 1, 1, 1, 1, 1],\n",
    "              [0, 0, 0, 0, 0, 0, 1, 1, 0, 1],\n",
    "              [0, 0, 0, 0, 0, 0, 0, 0, 1, 0],\n",
    "              [0, 0, 0, 0, 0, 1, 0, 0, 0, 1],\n",
    "              [0, 0, 0, 0, 0, 0, 1, 1, 0, 0],\n",
    "              [0, 0, 0, 0, 0, 0, 0, 0, 0, 1],\n",
    "              [0, 0, 0, 0, 0, 0, 0, 0, 1, 1],\n",
    "              [0, 0, 0, 0, 0, 0, 0, 0, 0, 0],\n",
    "              [0, 0, 0, 0, 0, 0, 0, 0, 0, 0]])\n",
    "b = np.array([0, 0, 0, 0, 1, 1, 1, 0, 0, 1])\n",
    "problem_10_64 = HiddenLinearFunctionProblem(A, b)\n",
    "problem_10_64.bruteforce_solve()\n",
    "print(\"Size of subspace L: %d\" % len(problem_10_64.L))\n",
    "print(\"Number of solutions: %d\" % len(problem_10_64.all_zs))\n"
   ]
  },
  {
   "cell_type": "code",
   "execution_count": 13,
   "metadata": {},
   "outputs": [],
   "source": [
    "def edge_coloring(A):\n",
    "    A = np.copy(A)\n",
    "    n = A.shape[0]\n",
    "    ans = []\n",
    "    while np.max(A) != 0:\n",
    "        edges_group = []\n",
    "        used = np.zeros(n, dtype=bool)\n",
    "        for i in range(n):\n",
    "            for j in range(n):\n",
    "                if A[i][j] == 1 and not used[i] and not used[j]:\n",
    "                    edges_group.append((i, j))\n",
    "                    A[i][j] = 0\n",
    "                    used[i] = used[j] = True\n",
    "            ans.append(edges_group)\n",
    "        return ans"
   ]
  },
  {
   "cell_type": "code",
   "execution_count": null,
   "metadata": {},
   "outputs": [],
   "source": [
    "def generate_circuit_for_problem(problem):\n",
    "    \"\"\" Generates cirq.Circuit which solves instance of Hidden Linear Function problem\"\"\"\n",
    "    qubits = cirq.LineQubit.range(problem.n)\n",
    "    circuit = cirq.Circuit()\n",
    "\n",
    "    # Hadamard gates at the beginning (creating equal superposition of all states).\n",
    "    circuit += cirq.Moment([cirq.H(q) for q in qubits])\n",
    "\n",
    "    # Controlled-z gates encoding the matrix A.\n",
    "    for layer in edge_coloring(problem.A):\n",
    "        for i, j in layer:\n",
    "            circuit += cirq.CZ(qubits[i], qubits[j])\n",
    "\n",
    "    # S gates encoding the vector b.\n",
    "    circuit += cirq.Moment([cirq.S.on(qubits[i]) for i in range(problem.n) if problem.b[i] == 1])\n",
    "\n",
    "    # Hadamard gates at the end.\n",
    "    circuit += cirq.Moment([cirq.measure(qubits[i], key=str(i)) for i in range(problem.n)]) \n",
    "\n",
    "    return circuit\n",
    "\n",
    "def solve_problem(problem, print_circuit=False):\n",
    "    \"\"\" Solve instance of Hidden Linear Function problem.\n",
    "     \n",
    "      Builds quantum circuit for given problem and simulates it with the Clifford\n",
    "       simulator.\n",
    "    \n",
    "     Returns measurement result as binary vector, which is guaranteed to a solution to given problem.\n",
    "       \"\"\"\n",
    "    circuit = generate_circuit_for_problem(problem)\n",
    "\n",
    "    if print_circuit:\n",
    "        print(circuit)\n",
    "    sim = cirq.CliffordSimulator()\n",
    "    result = sim.simulate(circuit)\n",
    "    z = np.array([result.measurements[str(i)][0] for i in range(problem.n)])\n",
    "    return z\n",
    "\n",
    "solve_problem(problem_10_64, print_circuit=True)\n"
   ]
  },
  {
   "cell_type": "code",
   "execution_count": null,
   "metadata": {},
   "outputs": [],
   "source": [
    "# Testing \n",
    "# To solve it with a quantum circuit 100 times and each time check that measurement result is indeed an answer to the problem.\n",
    "def test_problem(problem):\n",
    "    problem.bruteforce_solve()\n",
    "    tries = 100\n",
    "    for _ in range(tries):\n",
    "        z = solve_problem(problem)\n",
    "        assert problem.is_z(z)\n",
    "\n",
    "test_problem(problem_10_64)\n",
    "print('OK')"
   ]
  },
  {
   "cell_type": "code",
   "execution_count": null,
   "metadata": {},
   "outputs": [],
   "source": [
    "# Repeat that for 10 other problems with n = 8 and chance of random guessing at most one 4th.\n",
    "for _ in range(10):\n",
    "    test_problem(find_interesting_problem(8, 4))\n",
    "print('OK')"
   ]
  },
  {
   "cell_type": "code",
   "execution_count": null,
   "metadata": {},
   "outputs": [],
   "source": [
    "%%time\n",
    "tries = 200\n",
    "problem = random_problem(tries, seed=0)\n",
    "solve_problem(problem, print_circuit=False)"
   ]
  }
 ],
 "metadata": {
  "kernelspec": {
   "display_name": "Python 3",
   "language": "python",
   "name": "python3"
  },
  "language_info": {
   "codemirror_mode": {
    "name": "ipython",
    "version": 3
   },
   "file_extension": ".py",
   "mimetype": "text/x-python",
   "name": "python",
   "nbconvert_exporter": "python",
   "pygments_lexer": "ipython3",
   "version": "3.10.4"
  },
  "orig_nbformat": 4
 },
 "nbformat": 4,
 "nbformat_minor": 2
}
